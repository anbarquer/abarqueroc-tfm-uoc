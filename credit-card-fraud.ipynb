{
 "cells": [
  {
   "cell_type": "code",
   "execution_count": 130,
   "outputs": [],
   "source": [
    "import os\n",
    "import warnings\n",
    "from pathlib import Path\n",
    "\n",
    "import matplotlib.pyplot as plt\n",
    "import numpy as np\n",
    "import pandas as pd\n",
    "import seaborn as sns\n",
    "from IPython.display import display, HTML\n",
    "from imblearn.over_sampling import ADASYN, SMOTE, RandomOverSampler\n",
    "from imblearn.pipeline import Pipeline\n",
    "from imblearn.under_sampling import RandomUnderSampler, NearMiss\n",
    "from joblib import dump\n",
    "from sklearn.ensemble import IsolationForest\n",
    "from sklearn.linear_model import LogisticRegression\n",
    "from sklearn.metrics import (\n",
    "    f1_score,\n",
    "    classification_report,\n",
    "    precision_recall_fscore_support,\n",
    "    make_scorer,\n",
    "    confusion_matrix\n",
    ")\n",
    "from sklearn.model_selection import train_test_split, GridSearchCV, StratifiedKFold\n",
    "from sklearn.neighbors import KNeighborsClassifier\n",
    "from sklearn.preprocessing import RobustScaler\n",
    "from sklearn.tree import DecisionTreeClassifier\n",
    "\n",
    "warnings.filterwarnings('ignore')"
   ],
   "metadata": {
    "collapsed": false,
    "pycharm": {
     "name": "#%%\n"
    }
   }
  },
  {
   "cell_type": "markdown",
   "source": [
    "<h1>Desarrollo de un modelo predictivo sobre fraude en transacciones basadas en el uso de tarjetas de crédito</h1>"
   ],
   "metadata": {
    "collapsed": false,
    "pycharm": {
     "name": "#%% md\n"
    }
   }
  },
  {
   "cell_type": "markdown",
   "source": [
    "<h2>Carga de los datos</h2>\n",
    "\n",
    "<p>La información que se ha proporcionado para la elaboración de este trabajo ha sido supervisada y validada por los expertos en el dominio del negocio. Estos datos han sido procesados mediante técnicas de reducción de dimensionalidad (PCA) y se encuentren normalizados. Los valores de las columnas se encuentran anonimizados. Para la elaboración de este informe se ha proporcionado un fichero con extensión CSV que contiene todos los datos que se van a utilizar.</p>\n",
    "\n",
    "<p>En otros escenarios tendríamos que utilizar algún tipo de conexión a una base de datos o utilizar tecnologías de procesamiento de datos masivos pero en este caso basta con realizar una carga simple del fichero: <code>creditcard.csv</code>. En caso de pérdida es posible descargar una copia desde el <a href=\"https://www.kaggle.com/datasets/mlg-ulb/creditcardfraud\">siguiente</a> enlace. Una vez descargado basta con descomprimir el fichero y extraer el contenido en el directorio raíz desde donde se va a ejecutar este <i>notebook</i>.</p>"
   ],
   "metadata": {
    "collapsed": false,
    "pycharm": {
     "name": "#%% md\n"
    }
   }
  },
  {
   "cell_type": "code",
   "execution_count": null,
   "outputs": [],
   "source": [
    "df = pd.read_csv('creditcard.csv')\n",
    "df.head()"
   ],
   "metadata": {
    "collapsed": false,
    "pycharm": {
     "name": "#%%\n"
    }
   }
  },
  {
   "cell_type": "markdown",
   "source": [
    "<h2>Análisis descriptivo</h2>\n",
    "\n",
    "<p>En este apartado del informe procederemos a realizar un análisis de la calidad de los datos de entrada. El objetivo de este estudio será extraer todo el conocimiento posible de la información para así poder aplicar técnicas que mejoren su calidad o detectar posibles anomalías que puedan hacer que la eficiencia del modelo final se vea afectada.</p>"
   ],
   "metadata": {
    "collapsed": false,
    "pycharm": {
     "name": "#%% md\n"
    }
   }
  },
  {
   "cell_type": "code",
   "execution_count": null,
   "outputs": [],
   "source": [
    "df.columns"
   ],
   "metadata": {
    "collapsed": false,
    "pycharm": {
     "name": "#%%\n"
    }
   }
  },
  {
   "cell_type": "markdown",
   "source": [
    "<p>El juego de datos se ha cargado correctamente y los nombres de las columnas son los que originalmente hemos observado en el fichero de entrada original.</p>"
   ],
   "metadata": {
    "collapsed": false,
    "pycharm": {
     "name": "#%% md\n"
    }
   }
  },
  {
   "cell_type": "code",
   "execution_count": null,
   "outputs": [],
   "source": [
    "df.describe()"
   ],
   "metadata": {
    "collapsed": false,
    "pycharm": {
     "name": "#%%\n"
    }
   }
  },
  {
   "cell_type": "markdown",
   "source": [
    "<p>Analizando la tabla anterior podemos comprobar que la suposición inicial, es decir, que las columnas con valores anónimos se encuentran escaladas es cierta. Vemos que el resto de columnas que no representan la clase (<strong>Amount</strong> y <strong>Time</strong>) no han sido procesadas.</p>"
   ],
   "metadata": {
    "collapsed": false,
    "pycharm": {
     "name": "#%% md\n"
    }
   }
  },
  {
   "cell_type": "code",
   "execution_count": null,
   "outputs": [],
   "source": [
    "print(f'Null values: {df.isnull().sum().max()}')"
   ],
   "metadata": {
    "collapsed": false,
    "pycharm": {
     "name": "#%%\n"
    }
   }
  },
  {
   "cell_type": "markdown",
   "source": [
    "<p>El resultado anterior nos indica que no existen valores nulos en el juego de datos por lo que no será necesario realizar ningún preprocesamiento para compensarlo.</p>"
   ],
   "metadata": {
    "collapsed": false,
    "pycharm": {
     "name": "#%% md\n"
    }
   }
  },
  {
   "cell_type": "code",
   "execution_count": null,
   "outputs": [],
   "source": [
    "sns.set(rc={\n",
    "    'figure.figsize': (12, 5)\n",
    "})\n",
    "sns.countplot(x='Class', data=df)"
   ],
   "metadata": {
    "collapsed": false,
    "pycharm": {
     "name": "#%%\n"
    }
   }
  },
  {
   "cell_type": "code",
   "execution_count": null,
   "outputs": [],
   "source": [
    "ROUND_PERCENT = 3\n",
    "\n",
    "def get_dataset_info(dataframe, prec=ROUND_PERCENT):\n",
    "    legit_count, fraud_count = dataframe['Class'].value_counts()\n",
    "    total_count, total_cols = dataframe.shape\n",
    "    info = {\n",
    "        'legit transactions percent': f'{round((legit_count / total_count) * 100, prec)}%',\n",
    "        'fraud transactions percent': f'{round((fraud_count / total_count) * 100, prec)}%',\n",
    "        'total transactions': total_count,\n",
    "        'total columns': total_cols,\n",
    "        'total legit transactions count': legit_count,\n",
    "        'total fraud transactions count': fraud_count,\n",
    "    }\n",
    "\n",
    "    return pd.DataFrame(info.values(), index=info.keys())\n",
    "\n",
    "\n",
    "display(get_dataset_info(dataframe=df))"
   ],
   "metadata": {
    "collapsed": false,
    "pycharm": {
     "name": "#%%\n"
    }
   }
  },
  {
   "cell_type": "markdown",
   "source": [
    "<p>Podemos ver que, en efecto, el juego de datos original se encuentra muy desbalanceado. Para compensar este defecto tendremos que utilizar técnicas de balanceo de datos como <i>undersampling</i> o <i>oversampling</i> para que el modelo resultante tenga la máxima calidad posible.</p>"
   ],
   "metadata": {
    "collapsed": false,
    "pycharm": {
     "name": "#%% md\n"
    }
   }
  },
  {
   "cell_type": "code",
   "execution_count": null,
   "outputs": [],
   "source": [
    "fig, axes = plt.subplots(\n",
    "    nrows=1,\n",
    "    ncols=2,\n",
    "    figsize=(25, 10)\n",
    ")\n",
    "\n",
    "for col, ax in zip(('Time', 'Amount'), axes.flat):\n",
    "    ax.set_title(f'{col} distribution')\n",
    "    sns.distplot(x=df[col], ax=ax)\n",
    "plt.show()"
   ],
   "metadata": {
    "collapsed": false,
    "pycharm": {
     "name": "#%%\n"
    }
   }
  },
  {
   "cell_type": "markdown",
   "source": [
    "<p>Como conclusión de este apartado: </p>\n",
    "<ul>\n",
    "    <li>El juego de datos se encuentra muy desbalanceado con:</li>\n",
    "    <ul>\n",
    "        <li>Número total de transacciones: <code>284807</code></li>\n",
    "        <li>Transacciones legítimas: <code>284315 - 99.827% </code></li>\n",
    "        <li>Transacciones fraudulentas: <code>492 - 0.173%</code></li>\n",
    "    </ul>\n",
    "    <li>La cantidad de observaciones en el juego de datos no es muy elevada: <code>284807</code></li>\n",
    "    <li>No existen valores nulos.</li>\n",
    "    <li>El juego de datos tiene 31 columnas:</li>\n",
    "    <ul>\n",
    "        <li>28 columnas anonimizadas y normalizadas con nombres desde V1 a V28.</li>\n",
    "        <li><strong>Time:</strong> tiempo transcurrido desde la primera transacción.</li>\n",
    "        <li><strong>Amount:</strong> cantidad de la transacción en dólares (USD).</li>\n",
    "            <ul>\n",
    "                <li>Analizando los gráficos podemos concluir que se trata de transacciones con cantidades muy pequeñas.</li>\n",
    "            </ul>\n",
    "        <li><strong>Class:</strong> categoría de la transacción. </li>\n",
    "        <ul>\n",
    "            <li>0: transacción correcta.</li>\n",
    "            <li>1: transacción fraudulenta.</li>\n",
    "        </ul>\n",
    "    </ul>\n",
    "</ul>\n",
    "\n",
    "<p>Como se trata de un juego de datos desbalanceado a la hora de evaluar la eficiencia de los modelos no podremos utilizar <i>accuracy</i> ya que podría llevarnos a resultados erróneos. Tendremos que utilizar matrices de confusión, <i>f1-score</i> o <i>precision/recall</i>.</p>\n"
   ],
   "metadata": {
    "collapsed": false,
    "pycharm": {
     "name": "#%% md\n"
    }
   }
  },
  {
   "cell_type": "markdown",
   "source": [
    "<h2>Normalización de <strong>Amount</strong> y <strong>Time</strong></h2>\n",
    "\n",
    "<p>Como hemos comentado en apartados anteriores las columnas <strong>Amount</strong> y <strong>Time</strong> no se encuentran normalizadas por lo que en este apartado realizaremos la normalización de las mismas. Para conservar los datos de las columnas originales crearemos dos nuevas con los nombres <strong>ScaledTime</strong> y <strong>ScaledAmount</strong>. Antes de realizar este proceso procederemos a analizar la distribución de ambas columas para ver qué cantidad de valores extremos o <i>outliers</i> y así elegir el mejor método de escalado.</p>"
   ],
   "metadata": {
    "collapsed": false,
    "pycharm": {
     "name": "#%% md\n"
    }
   }
  },
  {
   "cell_type": "code",
   "execution_count": null,
   "outputs": [],
   "source": [
    "fig, axes = plt.subplots(\n",
    "    nrows=1,\n",
    "    ncols=2,\n",
    "    figsize=(25, 5)\n",
    ")\n",
    "\n",
    "for col, ax in zip(('Time', 'Amount'), axes.flat):\n",
    "    ax.set_title(f'{col} boxplot')\n",
    "    sns.boxplot(x=df[col], ax=ax)\n",
    "plt.show()"
   ],
   "metadata": {
    "collapsed": false,
    "pycharm": {
     "name": "#%%\n"
    }
   }
  },
  {
   "cell_type": "markdown",
   "source": [
    "<p>Como vemos en los gráficos anteriores la columna <strong>Amount</strong> parece que presenta algunos valores extremos en su distribución en las partes altas por lo que vamos a utilizar <i>RobustScaler</i> ya que es más robusto ante este tipo de situaciones ya que utiliza la mediana y el rango intercuantil en vez de la media y la varianza.</p>\n"
   ],
   "metadata": {
    "collapsed": false,
    "pycharm": {
     "name": "#%% md\n"
    }
   }
  },
  {
   "cell_type": "code",
   "execution_count": null,
   "outputs": [],
   "source": [
    "robust_scaler = RobustScaler()\n",
    "\n",
    "for scaled_col, original_col in zip(\n",
    "        ('ScaledAmount', 'ScaledTime'),\n",
    "        ('Amount', 'Time')):\n",
    "    df[scaled_col] = robust_scaler.fit_transform(df[original_col].values.reshape(-1, 1))\n",
    "\n",
    "df[['ScaledAmount', 'Amount', 'ScaledTime', 'Time', 'Class']].sample(10).head()"
   ],
   "metadata": {
    "collapsed": false,
    "pycharm": {
     "name": "#%%\n"
    }
   }
  },
  {
   "cell_type": "code",
   "execution_count": null,
   "outputs": [],
   "source": [
    "df.describe()"
   ],
   "metadata": {
    "collapsed": false,
    "pycharm": {
     "name": "#%%\n"
    }
   }
  },
  {
   "cell_type": "markdown",
   "source": [
    "\n",
    "<p>Como podemos comprobar el juego de datos original ahora contiene las columnas <strong>ScaledAmount</strong> y <strong>ScaledTime</strong>. Para seguir con el siguiente paso del análisis se van a eliminar las columnas originales <strong>Amount</strong> y <strong>Time</strong></p>\n"
   ],
   "metadata": {
    "collapsed": false,
    "pycharm": {
     "name": "#%% md\n"
    }
   }
  },
  {
   "cell_type": "code",
   "execution_count": null,
   "outputs": [],
   "source": [
    "df.drop(['Amount', 'Time'], axis=1, inplace=True)\n",
    "df.rename(\n",
    "    columns={\n",
    "        'ScaledAmount': 'Amount',\n",
    "        'ScaledTime': 'Time'\n",
    "    },\n",
    "    inplace=True\n",
    ")\n",
    "df.head()"
   ],
   "metadata": {
    "collapsed": false,
    "pycharm": {
     "name": "#%%\n"
    }
   }
  },
  {
   "cell_type": "markdown",
   "source": [
    "<h2>Particionado de los datos</h2>\n",
    "<p>Antes de proceder a procesar la información con técnicas de balanceo de datos es necesario particionarlos antes. Aunque estos datos van a particionarse de la misma forma cuando generemos los juegos de datos balanceados las pruebas han de hacerse con el juego de datos original. El objetivo final es entrenar los modelos con los juegos de datos después de aplicar técnicas de <i>oversampling</i> o <i>undersampling</i> y hacer las pruebas con el juego de datos original. En este caso utilizaremos un particionado de 80/20 siendo 80% el juego de datos de entrenamiento y 20% el de pruebas.</p>\n",
    "\n"
   ],
   "metadata": {
    "collapsed": false,
    "pycharm": {
     "name": "#%% md\n"
    }
   }
  },
  {
   "cell_type": "code",
   "execution_count": null,
   "outputs": [],
   "source": [
    "TEST_SIZE = 0.2\n",
    "RANDOM_STATE = 1\n",
    "\n",
    "X = df.drop('Class', axis=1)\n",
    "y = df['Class']\n",
    "\n",
    "X_train, X_test, y_train, y_test = train_test_split(X, y, test_size=TEST_SIZE, random_state=RANDOM_STATE)"
   ],
   "metadata": {
    "collapsed": false,
    "pycharm": {
     "name": "#%%\n"
    }
   }
  },
  {
   "cell_type": "markdown",
   "source": [
    "\n",
    "<h2>Creación de muestras balanceadas</h2>\n",
    "\n",
    "<p>Para continuar con el análisis del juego de datos original es necesario crearmuestras balanceadas. Para tener un juego de datos con la misma cantidad de transacciones fraudulentas y legítimas es necesario extraer la información necesaria del fichero proporcionado. Debemos hacer este proceso ya que si se utiliza el juego de datos original podremos tener los siguientes problemas:</p>\n",
    "<ul>\n",
    "    <li><strong>Correlaciones erróneas:</strong> aunque la mayoría de las columnas se encuentran anonimizadas podría ser interesante conocer las correlaciones entre estas. Si utilizamos un juego de datos desbalanceado no podremos obtener esta información de forma fiable.</li>\n",
    "    <li><strong><i>Overfitting:</i></strong> si se utiliza el juego de datos tal cual se ha obtenido originalmente los modelos se sobreentrenarán con los casos de transacciones legítimas haciendo que las fraudulentas no puedan ser detectadas con la eficiencia necesaria.</li>\n",
    "</ul>\n",
    "\n",
    "<h3>Undersampling</h3>\n",
    "<p>Este tipo de técnicas realiza un procesado de los datos de tal forma que balancea la muestra original teniendo en cuenta la clase menos representada. Esto significa que las clases más representadas verán reducida la cantidad de filas para adecuarse en número a las clases menos representadas. En concreto vamos a utilizar los siguientes algoritmos:</p>\n",
    "<ul>\n",
    "    <li><i>Random undersampling</i></li>\n",
    "    <li><i>NearMiss</i></li>\n",
    "</ul>\n",
    "<p>Para cada uno de ellos explicaremos su funcionamiento en líneas generales y mostraremos información sobre el juego de datos resultante.</p>\n",
    "\n",
    "<h3>Oversampling</h3>\n",
    "<p>Este tipo de técnicas realiza un procesado de los datos de tal forma que balancea la muestra original teniendo en cuenta la clase más representada representada. Esto significa que las clases menos representadas aumentarán la cantidad de filas para adecuarse en número a las clases más representadas. En concreto vamos a utilizar los siguientes algoritmos:</p>\n",
    "<ul>\n",
    "    <li><i>Random oversampling</i></li>\n",
    "    <li>ADASYN</li>\n",
    "    <li>SMOTE</li>\n",
    "</ul>\n",
    "\n",
    "<p>En este apartado probaremos todos los algoritmos seleccionamos para la generación de muestras y analizaremos los resultados. De esta forma podremos comprobar qué hace realmente cada uno de ellos y analizaremos el resultado de cada uno de ellos con respecto al juego de datos original del análisis descriptivo.</p>"
   ],
   "metadata": {
    "collapsed": false,
    "pycharm": {
     "name": "#%% md\n"
    }
   }
  },
  {
   "cell_type": "code",
   "execution_count": null,
   "outputs": [],
   "source": [
    "RANDOM_N = 1\n",
    "\n",
    "SAMPLERS = [\n",
    "    ('Random Under Sampling', RandomUnderSampler, RANDOM_STATE, 'majority'),\n",
    "    ('NearMiss', NearMiss, None, 'majority'),\n",
    "    ('Random Over Sampling', RandomOverSampler, RANDOM_STATE, 'minority'),\n",
    "    ('SMOTE', SMOTE, RANDOM_STATE, 'minority'),\n",
    "    ('ADASYN', ADASYN, RANDOM_STATE, 'minority'),\n",
    "]\n",
    "\n",
    "# Save samplers data for visualizations\n",
    "samplers_df = {}\n",
    "\n",
    "def get_sampled_dataframe(sampler_instance, random_state, sampling_strategy):\n",
    "    sampler = sampler_instance(\n",
    "        random_state=random_state,\n",
    "        sampling_strategy=sampling_strategy,\n",
    "    ) if random_state is not None else sampler_instance(\n",
    "        sampling_strategy=sampling_strategy\n",
    "    )\n",
    "    X_sampled, y_sampled = sampler.fit_resample(X, y)\n",
    "    df_sampled = X_sampled\n",
    "    df_sampled['Class'] = y_sampled\n",
    "\n",
    "    return df_sampled\n",
    "\n",
    "\n",
    "for sampler_name, sampler, random_state, sampling_strategy in SAMPLERS:\n",
    "    df_sampled = get_sampled_dataframe(\n",
    "        sampler_instance=sampler,\n",
    "        random_state=random_state,\n",
    "        sampling_strategy=sampling_strategy,\n",
    "    )\n",
    "    samplers_df.update({\n",
    "        sampler_name: df_sampled\n",
    "    })"
   ],
   "metadata": {
    "collapsed": false,
    "pycharm": {
     "name": "#%%\n"
    }
   }
  },
  {
   "cell_type": "code",
   "execution_count": null,
   "outputs": [],
   "source": [
    "fig, axes = plt.subplots(\n",
    "    nrows=3,\n",
    "    ncols=2,\n",
    "    figsize=(25, 15)\n",
    ")\n",
    "\n",
    "samplers_names = ['Original'] + list(samplers_df.keys())\n",
    "samplers_data = [df] + list(samplers_df.values())\n",
    "\n",
    "for col, dataframe, ax in zip(samplers_names, samplers_data, axes.flat):\n",
    "    ax.set_title(f'{col}')\n",
    "    sns.countplot(x='Class', ax=ax, data=dataframe)\n",
    "\n",
    "plt.subplots_adjust(\n",
    "    left=0.1,\n",
    "    bottom=0.1,\n",
    "    right=0.9,\n",
    "    top=0.9,\n",
    "    wspace=0.4,\n",
    "    hspace=0.4,\n",
    ")\n",
    "plt.show()"
   ],
   "metadata": {
    "collapsed": false,
    "pycharm": {
     "name": "#%%\n"
    }
   }
  },
  {
   "cell_type": "markdown",
   "source": [
    "<p>Vemos que, efectivamente, los algoritmos que realizar <i>undersampling</i> reducen la clase que más representación tiene para que tenga el mismo número que la infrarepresentada y los que aplican <i>oversampling</i> realizan justo lo contrario: aumentan la muestra de la clase con menos filas para que se iguale a la que mayor número de filas tiene. A continuación vamos a visualizar las correlaciones de las variables para cada uno de ellos. De esta forma podremos obtener un mayor conocimiento del juego de datos y de cómo ha influído cada técnica en las correlaciones entre las diferentes columnas.</p>"
   ],
   "metadata": {
    "collapsed": false,
    "pycharm": {
     "name": "#%% md\n"
    }
   }
  },
  {
   "cell_type": "code",
   "execution_count": null,
   "outputs": [],
   "source": [
    "fig, axes = plt.subplots(\n",
    "    nrows=3,\n",
    "    ncols=2,\n",
    "    figsize=(35, 45)\n",
    ")\n",
    "\n",
    "samplers_names = ['Original'] + list(samplers_df.keys())\n",
    "samplers_data = [df] + list(samplers_df.values())\n",
    "\n",
    "for col, dataframe, ax in zip(samplers_names, samplers_data, axes.flat):\n",
    "    ax.set_title(f'{col} correlation matrix')\n",
    "    sns.heatmap(data=dataframe.corr(), ax=ax, cmap='YlGnBu')\n",
    "\n",
    "plt.show()"
   ],
   "metadata": {
    "collapsed": false,
    "pycharm": {
     "name": "#%%\n"
    }
   }
  },
  {
   "cell_type": "markdown",
   "source": [
    "\n",
    "<p>Observando la matriz anterior podemos obtener las siguientes conclusiones:</p>\n",
    "<ul>\n",
    "    <li>Correlación positiva: las columnas <strong>V2</strong>, <strong>V4</strong>, <strong>V11</strong> y <strong>V19</strong> están correlacionadas positivamente con el valor de la clase. Esto significa que cuanto mayor sean estos valores mayor probabilidad de que la transacción sea fraudulenta.</li>\n",
    "    <li>Correlación negativa. las columnas <strong>V10</strong>, <strong>V12</strong>, <strong>V14</strong> y <strong>V17</strong> están correlacionadas negativamente con el valor de la clase. Esto significa que cuanto menor sean estos valores mayor probabilidad de que la transacción sea fraudulenta.</li>\n",
    "</ul>\n"
   ],
   "metadata": {
    "collapsed": false,
    "pycharm": {
     "name": "#%% md\n"
    }
   }
  },
  {
   "cell_type": "markdown",
   "source": [
    "<h2>Selección de clasificadores</h2>\n",
    "<p>Una vez hemos analizado y probado cada uno de los algoritmos de muestreo que vamos a utilizar en este informe en este apartado vamos a realizar un entrenamiento, sin ajuste de hiperparámetros, para cada uno de los modelos elegidos. Como en este punto ya tenemos el juego de datos original particionado crearemos un <i>pipeline</i> que cree una muestra con cada uno de los algoritmos del apartado anterior y entrenaremos un clasificador. Los clasificadores que se han seleccionado para la elaboración de este trabajo son los siguientes:</p>\n",
    "<ul>\n",
    "    <li>LogisticRegression</li>\n",
    "    <li>KNN</li>\n",
    "    <li>DecisionTree</li>\n",
    "    <li>IsolationForest</li>\n",
    "</ul>\n",
    "<p>Según se ha podido estudiar en la literatura existente cada uno de estos clasificadores puede resolver el problema que intentamos atajar, esto es, la clasificación correcta de transacciones fraudulentas de tarjetas de crédito en un juego de datos desbalanceado. Para cada uno de ellos mostraremos un reporte con el resultado de la clasificación. La finalidad de este apartado es seleccionar los mejores modelos y obtener los <i>baseline</i> para, a partir de sus resultados, intentar optimizar sus hiperparámetros a posteriori.</p>"
   ],
   "metadata": {
    "collapsed": false,
    "pycharm": {
     "name": "#%% md\n"
    }
   }
  },
  {
   "cell_type": "code",
   "execution_count": null,
   "outputs": [],
   "source": [
    "def instantiate_clf(classifier_info):\n",
    "    classifier_name, model, model_random_state, n_jobs, other = classifier_info\n",
    "\n",
    "    model_instance = None\n",
    "\n",
    "    if model_random_state is None and n_jobs is not None:\n",
    "        model_instance = model(n_jobs=n_jobs)\n",
    "    elif model_random_state is not None and n_jobs is not None:\n",
    "        if classifier_name != 'Logistic Regression':\n",
    "            model_instance = model(random_state=model_random_state, n_jobs=n_jobs)\n",
    "        else:\n",
    "            model_instance = model(random_state=model_random_state, n_jobs=n_jobs, max_iter=other)\n",
    "    elif model_random_state is not None and n_jobs is None:\n",
    "        model_instance = model(random_state=model_random_state)\n",
    "\n",
    "    return classifier_name, model_instance\n",
    "\n",
    "def instantiate_sampler(sampler_info):\n",
    "    sampler_name, sampler, sampler_random_state, sampling_strategy = sampler_info\n",
    "\n",
    "    sampler_instance = None\n",
    "\n",
    "    sampler_instance = sampler(\n",
    "        sampling_strategy=sampling_strategy\n",
    "    ) if sampler_random_state is None else sampler(\n",
    "        random_state=sampler_random_state,\n",
    "        sampling_strategy=sampling_strategy\n",
    "    )\n",
    "\n",
    "    return sampler_name, sampler_instance"
   ],
   "metadata": {
    "collapsed": false,
    "pycharm": {
     "name": "#%%\n"
    }
   }
  },
  {
   "cell_type": "code",
   "execution_count": null,
   "outputs": [],
   "source": [
    "RANDOM_STATE = 1\n",
    "\n",
    "CLASSIFIERS = [\n",
    "    ('Logistic Regression', LogisticRegression, RANDOM_STATE, -1, 500),\n",
    "    ('K-Nearest Neighbors', KNeighborsClassifier, None, -1, None),\n",
    "    ('Decision Tree', DecisionTreeClassifier, RANDOM_STATE, None, None),\n",
    "]\n",
    "\n",
    "for classifier_info in CLASSIFIERS:\n",
    "    for sampler_info in SAMPLERS:\n",
    "\n",
    "        classifier_name, classifier_instance = instantiate_clf(classifier_info)\n",
    "        sampler_name, sampler_instance = instantiate_sampler(sampler_info)\n",
    "\n",
    "        pipeline = Pipeline([\n",
    "            (sampler_name, sampler_instance),\n",
    "            (classifier_name, classifier_instance),\n",
    "        ])\n",
    "\n",
    "        model = pipeline.fit(X_train, y_train)\n",
    "        y_pred = model.predict(X_test)\n",
    "\n",
    "        print(f' === Classification report for {classifier_name} using {sampler_name} === ')\n",
    "        print(classification_report(y_test, y_pred, target_names=['Legit', 'Fraud']))\n",
    "\n",
    "print('DONE')"
   ],
   "metadata": {
    "collapsed": false,
    "pycharm": {
     "name": "#%%\n"
    }
   }
  },
  {
   "cell_type": "markdown",
   "source": [
    "<h3>Isolation Forest</h3>\n",
    "\n",
    "Para el modelo <i>Isolation Forest</i> el proceso que debe de realizarse es diferente. Esto es porque este algoritmo sigue un funcionamiento distinto al del resto de algoritmos: es un algoritmo no supervisado que explícitamente aísla las anomaĺias y las etiqueta con una clase especial, en este caso, <code>-1</code> por lo que no podemos tratarlo como el resto de modelos del apartado anterior. Tampoco será necesario aplicar ningún algoritmo de balanceo de datos antes de entrenar el clasificador ya que está diseñado desde su base para juegos de datos desbalanceados. Como en la literatura que se ha consultado a la hora de hacer este informe se ha establecido que este tipo de clasificador puede dar buenos resultados en este apartado vamos a crear el modelo <i>baseline</i> para este tipo de clasificador.</p>"
   ],
   "metadata": {
    "collapsed": false,
    "pycharm": {
     "name": "#%% md\n"
    }
   }
  },
  {
   "cell_type": "code",
   "execution_count": null,
   "outputs": [],
   "source": [
    "outlier_fraction = len(df[df['Class'] == 1]) / len(df[df['Class'] == 0])\n",
    "\n",
    "model_isf = IsolationForest(random_state=RANDOM_STATE, contamination=outlier_fraction, n_jobs=-1).fit(X_train)\n",
    "y_pred = model_isf.predict(X_test)\n",
    "\n",
    "# Outliers or anomaly classes are classsified as \"-1\". We're reshaping those results to be compatible with the original dataframe\n",
    "y_pred[y_pred == 1] = 0\n",
    "y_pred[y_pred == -1] = 1\n",
    "\n",
    "print(classification_report(y_test, y_pred, target_names=['Legit', 'Fraud']))"
   ],
   "metadata": {
    "collapsed": false,
    "pycharm": {
     "name": "#%%\n"
    }
   }
  },
  {
   "cell_type": "markdown",
   "source": [
    "<p>Estos resultados ya tienen más sentido que los obtenidos en el apartado anterior. Vemos que no es necesario aplicar ningún proceso de balanceo de datos ya que cuenta con el parámetro <strong>contamination</strong> que establece el porcentaje de valores extremos en el juego de datos. Como resultado de este apartado hemos podido seleccionar varios clasificadores / algoritmos de balanceo para su posterior comparación. El listado de modelos es el siguiente:</p>\n",
    "<ul>\n",
    "    <li>K-Nearest Neighbors / Randon Over Sampling</li>\n",
    "    <li>Decistion Tree / Random Over Sampling</li>\n",
    "    <li>Logistic Regression / Random Over Sampling</li>\n",
    "    <li>Isolation Forest</li>\n",
    "</ul>"
   ],
   "metadata": {
    "collapsed": false,
    "pycharm": {
     "name": "#%% md\n"
    }
   }
  },
  {
   "cell_type": "markdown",
   "source": [
    "<h2>Entrenamiento de modelos y búsqueda de hiperparámetros</h2>\n",
    "<p>Una vez hemos seleccionado los modelos y las técnias de balanceo de datos que vamos a utilizar en este apartado crearemos, para cada caso, tres modelos: un modelo sin datos balancedos, un modelo con datos balanceados aplicando los algoritmos del apartado anterior y un último modelo optimizado. Obtendremos las métricas necesarias para estos modelos y compararemos resultados y así podremos comprobar cómo el balanceo de datos puede hacer que un clasificador que a priori no generalice bien pueda obtener mejores resultados. También incluiremos el caso especial del modelo <i>Isolation Forest</i> en nuestra selección como caso especial. Como hemos visto en apartados anteriores este tipo de clasificador no necesita balanceo de datos.</p>"
   ],
   "metadata": {
    "collapsed": false,
    "pycharm": {
     "name": "#%% md\n"
    }
   }
  },
  {
   "cell_type": "code",
   "execution_count": null,
   "outputs": [],
   "source": [
    "RANDOM_STATE = 1\n",
    "\n",
    "def save_scores(y_test_data, y_pred_data, results, model_name):\n",
    "    f1_score, precision, recall, _ = precision_recall_fscore_support(y_test_data, y_pred_data, average='macro')\n",
    "\n",
    "    for label, value in zip(\n",
    "            ('model', 'f1_score', 'precision', 'recall'),\n",
    "            (model_name, f1_score, precision, recall),\n",
    "    ):\n",
    "        results[label].append(value)\n",
    "\n",
    "\n",
    "SELECTED_CLASSIFIERS = [\n",
    "    ('Logistic Regression', LogisticRegression, RANDOM_STATE, -1, 500),\n",
    "    ('K-Nearest Neighbors', KNeighborsClassifier, None, -1, None),\n",
    "    ('Decision Tree', DecisionTreeClassifier, RANDOM_STATE, None, None)\n",
    "]\n",
    "\n",
    "# Save model results for later visualizations\n",
    "scores = {\n",
    "    'model': [],\n",
    "    'f1_score': [],\n",
    "    'precision': [],\n",
    "    'recall': [],\n",
    "}\n",
    "\n",
    "for classifier_info in SELECTED_CLASSIFIERS:\n",
    "    classifier_name, classifier_instance = instantiate_clf(classifier_info)\n",
    "\n",
    "    model = classifier_instance.fit(X_train, y_train)\n",
    "    y_pred = model.predict(X_test)\n",
    "\n",
    "    save_scores(y_test, y_pred, scores, f'{classifier_name} (overfitted)')\n",
    "\n",
    "    pipeline = Pipeline([\n",
    "        ('Random Over Sampler', RandomOverSampler(random_state=RANDOM_STATE, sampling_strategy='minority')),\n",
    "        (classifier_name, classifier_instance),\n",
    "    ])\n",
    "\n",
    "    model = pipeline.fit(X_train, y_train)\n",
    "    y_pred = model.predict(X_test)\n",
    "    save_scores(y_test, y_pred, scores, f'{classifier_name} (Random Over Sampler)')\n",
    "\n",
    "print('DONE')"
   ],
   "metadata": {
    "collapsed": false,
    "pycharm": {
     "name": "#%%\n"
    }
   }
  },
  {
   "cell_type": "code",
   "execution_count": null,
   "outputs": [],
   "source": [
    "outlier_fraction = len(df[df['Class'] == 1]) / len(df[df['Class'] == 0])\n",
    "\n",
    "model_isf = IsolationForest(random_state=RANDOM_STATE, contamination=outlier_fraction, n_jobs=-1).fit(X_train)\n",
    "y_pred = model_isf.predict(X_test)\n",
    "\n",
    "# Outliers or anomaly classes are classsified as \"-1\". We're reshaping those results to be compatible with the original dataframe\n",
    "y_pred[y_pred == 1] = 0\n",
    "y_pred[y_pred == -1] = 1\n",
    "\n",
    "save_scores(y_test, y_pred, scores, 'Isolation Forest')"
   ],
   "metadata": {
    "collapsed": false,
    "pycharm": {
     "name": "#%%\n"
    }
   }
  },
  {
   "cell_type": "markdown",
   "source": [
    "<p>Una vez que hemos obtenido los resultados para los clasificadores (con y sin balanceo de datos) para todos los modelos vamos a ajustar los mejores hiperparámetros para obtener el mejor resultado. Como se ha explicado en apartados anteriores para juegos de datos no balanceados nos fijaremos en la métrica <i>f1-score</i> por lo que la utilizaremos como función de ajuste de hiperparámetros para cada uno de los modelos. Una vez que obtengamos los mejores parámetros para cada modelo los entrenaremos y obtendremos sus resultados totales para poder compararlos con los anteriores.</p>\n",
    "\n",
    "<p>Crearemos un <i>pipeline</i> que realice el balanceo de datos con los algoritmos seleccionados en apartados anteriores a la vez que realizamos <i>cross validation</i> y ajuste de hiperparámetros</p>"
   ],
   "metadata": {
    "collapsed": false,
    "pycharm": {
     "name": "#%% md\n"
    }
   }
  },
  {
   "cell_type": "code",
   "execution_count": null,
   "outputs": [],
   "source": [
    "N_SPLITS = 5\n",
    "RANDOM_STATE = 1\n",
    "\n",
    "f1_metric_scorer = make_scorer(f1_score, average='macro')\n",
    "kf = StratifiedKFold(n_splits=N_SPLITS, random_state=None, shuffle=False)\n",
    "\n",
    "# Save best models for later analysis\n",
    "best_grid_models = {}\n",
    "\n",
    "lr_param_grid = {\n",
    "    'classifier__penalty': ['l1', 'l2'],\n",
    "    'classifier__C': list(np.logspace(-3, 3, 7)),\n",
    "}\n",
    "\n",
    "knn_param_grid = {\n",
    "    'classifier__n_neighbors': [i for i in range(1, 6)],\n",
    "}\n",
    "\n",
    "dt_param_grid = {\n",
    "    'classifier__criterion': ['gini', 'entropy'],\n",
    "    'classifier__max_depth': [i for i in range(1, 11)],\n",
    "    'classifier__min_samples_split': [i for i in range(1, 11)],\n",
    "    'classifier__min_samples_leaf': [i for i in range(1, 6)],\n",
    "}\n",
    "\n",
    "for classifier_name, params, clf in zip(\n",
    "        ('Logistic Regression', 'K-Nearest Neighbors', 'Decision Tree'),\n",
    "        (lr_param_grid, knn_param_grid, dt_param_grid),\n",
    "        (LogisticRegression(max_iter=500), KNeighborsClassifier(), DecisionTreeClassifier())\n",
    "):\n",
    "    model = Pipeline([\n",
    "        ('sampling', RandomOverSampler(random_state=RANDOM_STATE, sampling_strategy='minority')),\n",
    "        ('classifier', clf)\n",
    "    ])\n",
    "\n",
    "    grid = GridSearchCV(estimator=model, param_grid=params, cv=kf, scoring=f1_metric_scorer, n_jobs=-1)\n",
    "    grid_results = grid.fit(X=X_train, y=y_train)\n",
    "    print(f'Best params for {classifier_name}: {grid_results.best_params_}')\n",
    "    best_model = grid_results.best_estimator_\n",
    "\n",
    "    y_pred = best_model.predict(X_test)\n",
    "    save_scores(y_test, y_pred, scores, f'{classifier_name} (Random Over Sampling) (tuned)')\n",
    "    best_grid_models.update({\n",
    "        classifier_name: (best_model, y_pred)\n",
    "    })\n",
    "\n",
    "print('DONE')"
   ],
   "metadata": {
    "collapsed": false,
    "pycharm": {
     "name": "#%%\n"
    }
   }
  },
  {
   "cell_type": "markdown",
   "source": [
    "<p>Por último para este apartado realizaremos la misma acción para el modelo <i>Isolation Forest</i>. Ajustaremos sus hiperparámetros para obtener la mejor versión del modelo y guardaremos los resultados para su posterior visualización y comparación con el resto de modelos que se han utilizado en este apartado.</p>"
   ],
   "metadata": {
    "collapsed": false,
    "pycharm": {
     "name": "#%% md\n"
    }
   }
  },
  {
   "cell_type": "code",
   "execution_count": null,
   "outputs": [],
   "source": [
    "outlier_fraction = len(df[df['Class'] == 1]) / len(df[df['Class'] == 0])\n",
    "if_param_grid = {\n",
    "    'n_estimators': list(range(50, 200, 50)),\n",
    "    'max_features': [1, 5, 10],\n",
    "}\n",
    "\n",
    "cv_isf_model = IsolationForest(random_state=RANDOM_STATE, contamination=outlier_fraction, n_jobs=-1)\n",
    "grid = GridSearchCV(estimator=cv_isf_model, param_grid=if_param_grid, cv=kf, scoring=f1_metric_scorer)\n",
    "grid_results = grid.fit(X=X_train, y=y_train)\n",
    "best_model = grid_results.best_estimator_\n",
    "print(f'Best params for Isolation Forest: {grid_results.best_params_}')\n",
    "y_pred = best_model.predict(X_test)\n",
    "\n",
    "# Outliers or anomaly classes are classsified as \"-1\". We're reshaping those results to be compatible with the original dataframe\n",
    "y_pred[y_pred == 1] = 0\n",
    "y_pred[y_pred == -1] = 1\n",
    "\n",
    "save_scores(y_test, y_pred, scores, 'Isolation Forest (tuned)')\n",
    "best_grid_models.update({\n",
    "    'Isolation Forest': (best_model, y_pred)\n",
    "})"
   ],
   "metadata": {
    "collapsed": false,
    "pycharm": {
     "name": "#%%\n"
    }
   }
  },
  {
   "cell_type": "markdown",
   "source": [
    "<h3>Análisis de los resultados</h3>\n",
    "<p>Una vez entrenamos los modelos con los mejores parámetros y utilizando las técnias de balanceo de datos que mejores resultados nos han otorgado en este apartado analizaremos los resultados de todas las métricas para ver qué modelo es el que mejor resuelve el problema. Con las conclusiones de este apartado obtendremos el mejor modelo para este problema el cual será el que finalmente utilizaremos.</p>"
   ],
   "metadata": {
    "collapsed": false,
    "pycharm": {
     "name": "#%% md\n"
    }
   }
  },
  {
   "cell_type": "code",
   "execution_count": 125,
   "outputs": [
    {
     "data": {
      "text/plain": "<IPython.core.display.HTML object>",
      "text/html": "<table border=\"1\" class=\"dataframe\">\n  <thead>\n    <tr style=\"text-align: right;\">\n      <th>model</th>\n      <th>f1_score</th>\n      <th>precision</th>\n      <th>recall</th>\n    </tr>\n  </thead>\n  <tbody>\n    <tr>\n      <td>Logistic Regression (overfitted)</td>\n      <td>0.913450</td>\n      <td>0.775774</td>\n      <td>0.830819</td>\n    </tr>\n    <tr>\n      <td>Logistic Regression (Random Over Sampling) (tuned)</td>\n      <td>0.537047</td>\n      <td>0.928456</td>\n      <td>0.564223</td>\n    </tr>\n    <tr>\n      <td>Logistic Regression (Random Over Sampler)</td>\n      <td>0.534347</td>\n      <td>0.933377</td>\n      <td>0.559238</td>\n    </tr>\n    <tr>\n      <td>K-Nearest Neighbors (overfitted)</td>\n      <td>0.949056</td>\n      <td>0.856260</td>\n      <td>0.897295</td>\n    </tr>\n    <tr>\n      <td>K-Nearest Neighbors (Random Over Sampling) (tuned)</td>\n      <td>0.917537</td>\n      <td>0.879196</td>\n      <td>0.897441</td>\n    </tr>\n    <tr>\n      <td>K-Nearest Neighbors (Random Over Sampler)</td>\n      <td>0.834793</td>\n      <td>0.896253</td>\n      <td>0.862929</td>\n    </tr>\n    <tr>\n      <td>Isolation Forest (tuned)</td>\n      <td>0.587926</td>\n      <td>0.597007</td>\n      <td>0.592241</td>\n    </tr>\n    <tr>\n      <td>Isolation Forest</td>\n      <td>0.594890</td>\n      <td>0.597068</td>\n      <td>0.595967</td>\n    </tr>\n    <tr>\n      <td>Decision Tree (overfitted)</td>\n      <td>0.845943</td>\n      <td>0.861823</td>\n      <td>0.853704</td>\n    </tr>\n    <tr>\n      <td>Decision Tree (Random Over Sampling) (tuned)</td>\n      <td>0.591230</td>\n      <td>0.888132</td>\n      <td>0.646725</td>\n    </tr>\n    <tr>\n      <td>Decision Tree (Random Over Sampler)</td>\n      <td>0.862453</td>\n      <td>0.879091</td>\n      <td>0.870584</td>\n    </tr>\n  </tbody>\n</table>"
     },
     "execution_count": 125,
     "metadata": {},
     "output_type": "execute_result"
    }
   ],
   "source": [
    "df_scores = pd.DataFrame(scores)\n",
    "df_scores.drop_duplicates('model', keep='first', inplace=True)\n",
    "df_scores = df_scores.sort_values(by=['model'], ascending=False)\n",
    "HTML(df_scores.to_html(index=False))"
   ],
   "metadata": {
    "collapsed": false,
    "pycharm": {
     "name": "#%%\n"
    }
   }
  },
  {
   "cell_type": "code",
   "execution_count": 126,
   "outputs": [
    {
     "data": {
      "text/plain": "<Figure size 1800x1080 with 1 Axes>",
      "image/png": "[encoded data removed]"
     },
     "metadata": {},
     "output_type": "display_data"
    }
   ],
   "source": [
    "fig, ax = plt.subplots(\n",
    "    nrows=1,\n",
    "    ncols=1,\n",
    "    figsize=(25, 15)\n",
    ")\n",
    "\n",
    "ax.set_title('Models scores comparison')\n",
    "df_scores.sort_values(by=['model'], ascending=True).plot(kind='barh', x='model', ax=ax)\n",
    "\n",
    "plt.show()"
   ],
   "metadata": {
    "collapsed": false,
    "pycharm": {
     "name": "#%%\n"
    }
   }
  },
  {
   "cell_type": "code",
   "execution_count": 61,
   "metadata": {
    "pycharm": {
     "name": "#%%\n"
    }
   },
   "outputs": [
    {
     "data": {
      "image/png": "[encoded data removed]",
      "text/plain": [
       "<Figure size 1800x1080 with 8 Axes>"
      ]
     },
     "metadata": {},
     "output_type": "display_data"
    }
   ],
   "source": [
    "\n",
    "fig, axes = plt.subplots(\n",
    "    nrows=2,\n",
    "    ncols=2,\n",
    "    figsize=(25, 15)\n",
    ")\n",
    "\n",
    "for model_name, values, ax in zip(\n",
    "        best_grid_models.keys(),\n",
    "        best_grid_models.values(),\n",
    "        axes.flat\n",
    "):\n",
    "    _, model_preds = values\n",
    "    ax.set_title(f'{model_name} confussion matrix')\n",
    "    cf_matrix = confusion_matrix(y_test, model_preds)\n",
    "    sns.heatmap(ax=ax, data=cf_matrix, annot=True, fmt='g', cmap='Blues', xticklabels=['Legit', 'Fraud'], yticklabels=['Legit', 'Fraud'])\n",
    "\n",
    "plt.subplots_adjust(\n",
    "    left=0.1,\n",
    "    bottom=0.1,\n",
    "    right=0.9,\n",
    "    top=0.9,\n",
    "    wspace=0.4,\n",
    "    hspace=0.4,\n",
    ")\n",
    "plt.show()"
   ]
  },
  {
   "cell_type": "markdown",
   "metadata": {
    "pycharm": {
     "name": "#%% md\n"
    }
   },
   "source": [
    "<h3>Persistencia de los modelos</h3>\n",
    "<p>Una vez obtenidos los binaros de los modelos de este trabajo por último vamos a realizar un proceso de guardado en ficheros binarios para no tener que repetir todo el proceso cada vez que se necesite utilizar los modelos. Para este caso en particular guardaremos todos los modelos que previamente hemos almacenado.</p>\n"
   ]
  },
  {
   "cell_type": "code",
   "execution_count": 62,
   "metadata": {
    "pycharm": {
     "name": "#%%\n"
    }
   },
   "outputs": [
    {
     "name": "stdout",
     "output_type": "stream",
     "text": [
      "Saving Logistic Regression as ./models/logistic_regression.joblib...\n",
      "Saving K-Nearest Neighbors as ./models/k-nearest_neighbors.joblib...\n",
      "Saving Decision Tree as ./models/decision_tree.joblib...\n",
      "Saving Isolation Forest as ./models/isolation_forest.joblib...\n"
     ]
    }
   ],
   "source": [
    "OUTPUT_MODELS_PATH = os.path.join('.', 'models')\n",
    "Path(OUTPUT_MODELS_PATH).mkdir(parents=True, exist_ok=True)\n",
    "\n",
    "\n",
    "for model_name, values in best_grid_models.items():\n",
    "    model, _ = values\n",
    "\n",
    "    file_name = os.path.join(OUTPUT_MODELS_PATH, f\"{model_name.replace(' ', '_').lower()}.joblib\")\n",
    "    print(f'Saving {model_name} as {file_name}...' )\n",
    "    dump(model, file_name)\n"
   ]
  }
 ],
 "metadata": {
  "kernelspec": {
   "display_name": "Python 3 (ipykernel)",
   "language": "python",
   "name": "python3"
  },
  "language_info": {
   "codemirror_mode": {
    "name": "ipython",
    "version": 3
   },
   "file_extension": ".py",
   "mimetype": "text/x-python",
   "name": "python",
   "nbconvert_exporter": "python",
   "pygments_lexer": "ipython3",
   "version": "3.9.7"
  }
 },
 "nbformat": 4,
 "nbformat_minor": 1
}